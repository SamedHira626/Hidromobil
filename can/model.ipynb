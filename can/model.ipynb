{
 "cells": [
  {
   "cell_type": "markdown",
   "metadata": {},
   "source": [
    "# Import"
   ]
  },
  {
   "cell_type": "code",
   "execution_count": 86,
   "metadata": {},
   "outputs": [],
   "source": [
    "import tensorflow as tf\n",
    "import matplotlib.pyplot as plt\n",
    "from sklearn.model_selection import train_test_split\n",
    "\n",
    "import pandas as pd\n",
    "import numpy as np\n",
    "import cv2\n",
    "\n",
    "import os\n",
    "\n",
    "from tensorflow.keras.layers import Input, Dense, Conv2D, MaxPooling2D, Dropout, Flatten, BatchNormalization\n",
    "from tensorflow.keras.models import Model"
   ]
  },
  {
   "cell_type": "markdown",
   "metadata": {},
   "source": [
    "# Data"
   ]
  },
  {
   "cell_type": "code",
   "execution_count": 13,
   "metadata": {},
   "outputs": [
    {
     "data": {
      "text/html": [
       "<div>\n",
       "<style scoped>\n",
       "    .dataframe tbody tr th:only-of-type {\n",
       "        vertical-align: middle;\n",
       "    }\n",
       "\n",
       "    .dataframe tbody tr th {\n",
       "        vertical-align: top;\n",
       "    }\n",
       "\n",
       "    .dataframe thead th {\n",
       "        text-align: right;\n",
       "    }\n",
       "</style>\n",
       "<table border=\"1\" class=\"dataframe\">\n",
       "  <thead>\n",
       "    <tr style=\"text-align: right;\">\n",
       "      <th></th>\n",
       "      <th>width</th>\n",
       "      <th>height</th>\n",
       "      <th>class</th>\n",
       "      <th>path</th>\n",
       "    </tr>\n",
       "  </thead>\n",
       "  <tbody>\n",
       "    <tr>\n",
       "      <th>0</th>\n",
       "      <td>41</td>\n",
       "      <td>42</td>\n",
       "      <td>0</td>\n",
       "      <td>TrafficSignDatasets\\closed_road\\00015_00000_00...</td>\n",
       "    </tr>\n",
       "    <tr>\n",
       "      <th>1</th>\n",
       "      <td>40</td>\n",
       "      <td>37</td>\n",
       "      <td>0</td>\n",
       "      <td>TrafficSignDatasets\\closed_road\\00015_00000_00...</td>\n",
       "    </tr>\n",
       "    <tr>\n",
       "      <th>2</th>\n",
       "      <td>40</td>\n",
       "      <td>38</td>\n",
       "      <td>0</td>\n",
       "      <td>TrafficSignDatasets\\closed_road\\00015_00000_00...</td>\n",
       "    </tr>\n",
       "    <tr>\n",
       "      <th>3</th>\n",
       "      <td>42</td>\n",
       "      <td>38</td>\n",
       "      <td>0</td>\n",
       "      <td>TrafficSignDatasets\\closed_road\\00015_00000_00...</td>\n",
       "    </tr>\n",
       "    <tr>\n",
       "      <th>4</th>\n",
       "      <td>45</td>\n",
       "      <td>41</td>\n",
       "      <td>0</td>\n",
       "      <td>TrafficSignDatasets\\closed_road\\00015_00000_00...</td>\n",
       "    </tr>\n",
       "  </tbody>\n",
       "</table>\n",
       "</div>"
      ],
      "text/plain": [
       "   width  height  class                                               path\n",
       "0     41      42      0  TrafficSignDatasets\\closed_road\\00015_00000_00...\n",
       "1     40      37      0  TrafficSignDatasets\\closed_road\\00015_00000_00...\n",
       "2     40      38      0  TrafficSignDatasets\\closed_road\\00015_00000_00...\n",
       "3     42      38      0  TrafficSignDatasets\\closed_road\\00015_00000_00...\n",
       "4     45      41      0  TrafficSignDatasets\\closed_road\\00015_00000_00..."
      ]
     },
     "execution_count": 13,
     "metadata": {},
     "output_type": "execute_result"
    }
   ],
   "source": [
    "df = pd.read_csv('veri_onizleme.csv')\n",
    "df.head()"
   ]
  },
  {
   "cell_type": "code",
   "execution_count": 34,
   "metadata": {},
   "outputs": [],
   "source": [
    "df = df[['class', 'path']]"
   ]
  },
  {
   "cell_type": "code",
   "execution_count": 64,
   "metadata": {},
   "outputs": [],
   "source": [
    "X = []\n",
    "y = []\n",
    "\n",
    "for i in range(df.shape[0]):\n",
    "    img = cv2.imread(df.iloc[i]['path'], 1)\n",
    "    img = cv2.resize(img, (32, 32))  # resize as you wish 28x28 or 32x32..\n",
    "    X.append(img)\n",
    "    y.append(df.iloc[i]['class'])\n",
    "\n",
    "X = np.array(X)\n",
    "y = np.array(y)"
   ]
  },
  {
   "cell_type": "code",
   "execution_count": 67,
   "metadata": {},
   "outputs": [],
   "source": [
    "X_train, X_test, y_train, y_test = train_test_split(X, y, random_state=0)"
   ]
  },
  {
   "cell_type": "code",
   "execution_count": 68,
   "metadata": {},
   "outputs": [
    {
     "name": "stdout",
     "output_type": "stream",
     "text": [
      "(5135, 32, 32, 3)\n",
      "(5135,)\n",
      "(1712, 32, 32, 3)\n",
      "(1712,)\n"
     ]
    }
   ],
   "source": [
    "print(X_train.shape)\n",
    "print(y_train.shape)\n",
    "print(X_test.shape)\n",
    "print(y_test.shape)"
   ]
  },
  {
   "cell_type": "code",
   "execution_count": 72,
   "metadata": {},
   "outputs": [
    {
     "data": {
      "text/plain": [
       "15"
      ]
     },
     "execution_count": 72,
     "metadata": {},
     "output_type": "execute_result"
    }
   ],
   "source": [
    "# num of classes\n",
    "K = len(set(y_train))\n",
    "K"
   ]
  },
  {
   "cell_type": "markdown",
   "metadata": {},
   "source": [
    "# Model"
   ]
  },
  {
   "cell_type": "code",
   "execution_count": 139,
   "metadata": {},
   "outputs": [
    {
     "name": "stdout",
     "output_type": "stream",
     "text": [
      "Train on 5135 samples, validate on 1712 samples\n",
      "Epoch 1/15\n",
      "5135/5135 [==============================] - 4s 810us/sample - loss: 0.4777 - accuracy: 0.8946 - val_loss: 0.0909 - val_accuracy: 0.9796\n",
      "Epoch 2/15\n",
      "5135/5135 [==============================] - 2s 372us/sample - loss: 0.0373 - accuracy: 0.9889 - val_loss: 0.0411 - val_accuracy: 0.9889\n",
      "Epoch 3/15\n",
      "5135/5135 [==============================] - 2s 396us/sample - loss: 0.0483 - accuracy: 0.9852 - val_loss: 0.0462 - val_accuracy: 0.9889\n",
      "Epoch 4/15\n",
      "5135/5135 [==============================] - 3s 662us/sample - loss: 0.0339 - accuracy: 0.9903 - val_loss: 0.0268 - val_accuracy: 0.9936\n",
      "Epoch 5/15\n",
      "5135/5135 [==============================] - 3s 510us/sample - loss: 0.0132 - accuracy: 0.9961 - val_loss: 0.0414 - val_accuracy: 0.9942\n",
      "Epoch 6/15\n",
      "5135/5135 [==============================] - 3s 526us/sample - loss: 0.0180 - accuracy: 0.9953 - val_loss: 0.0497 - val_accuracy: 0.9883\n",
      "Epoch 7/15\n",
      "5135/5135 [==============================] - 3s 651us/sample - loss: 0.0136 - accuracy: 0.9955 - val_loss: 0.0397 - val_accuracy: 0.9889\n",
      "Epoch 8/15\n",
      "5135/5135 [==============================] - 4s 744us/sample - loss: 0.0408 - accuracy: 0.9930 - val_loss: 0.0842 - val_accuracy: 0.9877\n",
      "Epoch 9/15\n",
      "5135/5135 [==============================] - 2s 412us/sample - loss: 0.0458 - accuracy: 0.9905 - val_loss: 0.1049 - val_accuracy: 0.9819\n",
      "Epoch 10/15\n",
      "5135/5135 [==============================] - 2s 386us/sample - loss: 0.0232 - accuracy: 0.9932 - val_loss: 0.0527 - val_accuracy: 0.9907\n",
      "Epoch 11/15\n",
      "5135/5135 [==============================] - 2s 376us/sample - loss: 0.0379 - accuracy: 0.9934 - val_loss: 0.0753 - val_accuracy: 0.9912\n",
      "Epoch 12/15\n",
      "5135/5135 [==============================] - 2s 369us/sample - loss: 0.0276 - accuracy: 0.9934 - val_loss: 0.0476 - val_accuracy: 0.9959\n",
      "Epoch 13/15\n",
      "5135/5135 [==============================] - 2s 374us/sample - loss: 0.0166 - accuracy: 0.9973 - val_loss: 0.0408 - val_accuracy: 0.9977\n",
      "Epoch 14/15\n",
      "5135/5135 [==============================] - 2s 384us/sample - loss: 0.0225 - accuracy: 0.9959 - val_loss: 0.0783 - val_accuracy: 0.9883\n",
      "Epoch 15/15\n",
      "5135/5135 [==============================] - 2s 362us/sample - loss: 0.0387 - accuracy: 0.9936 - val_loss: 0.1017 - val_accuracy: 0.9889\n"
     ]
    }
   ],
   "source": [
    "# Build the model\n",
    "i = Input(shape=X_train[0].shape)\n",
    "x = Conv2D(32, (3, 3), activation='relu', padding='same')(i)\n",
    "x = BatchNormalization()(x)\n",
    "x = Conv2D(32, (3, 3), activation='relu', padding='same')(x)\n",
    "x = BatchNormalization()(x)\n",
    "x = MaxPooling2D((2, 2))(x)\n",
    "x = Conv2D(64, (3, 3), activation='relu', padding='same')(x)\n",
    "x = BatchNormalization()(x)\n",
    "x = Conv2D(64, (3, 3), activation='relu', padding='same')(x)\n",
    "x = BatchNormalization()(x)\n",
    "x = MaxPooling2D((2,2))(x)\n",
    "\n",
    "x = Flatten()(x)\n",
    "x = Dropout(0.2)(x)\n",
    "x = Dense(256, activation='relu')(x)\n",
    "x = Dropout(0.2)(x)\n",
    "x = Dense(K, activation='softmax')(x)\n",
    "\n",
    "model = Model(i, x)\n",
    "\n",
    "# Compile\n",
    "model.compile(optimizer='adam',\n",
    "             loss='sparse_categorical_crossentropy',\n",
    "             metrics=['accuracy'])\n",
    "\n",
    "# Train\n",
    "r = model.fit(X_train, y_train, validation_data=(X_test, y_test), epochs=15)"
   ]
  },
  {
   "cell_type": "code",
   "execution_count": 140,
   "metadata": {},
   "outputs": [
    {
     "data": {
      "text/plain": [
       "<matplotlib.legend.Legend at 0x1df9ff200c8>"
      ]
     },
     "execution_count": 140,
     "metadata": {},
     "output_type": "execute_result"
    },
    {
     "data": {
      "image/png": "[encoded data removed]",
      "text/plain": [
       "<Figure size 432x288 with 1 Axes>"
      ]
     },
     "metadata": {
      "needs_background": "light"
     },
     "output_type": "display_data"
    }
   ],
   "source": [
    "plt.plot(r.history['accuracy'], label='acc')\n",
    "plt.plot(r.history['val_accuracy'], label='val_acc')\n",
    "plt.legend()"
   ]
  },
  {
   "cell_type": "code",
   "execution_count": 141,
   "metadata": {},
   "outputs": [
    {
     "data": {
      "text/plain": [
       "<matplotlib.legend.Legend at 0x1df994bd588>"
      ]
     },
     "execution_count": 141,
     "metadata": {},
     "output_type": "execute_result"
    },
    {
     "data": {
      "image/png": "[encoded data removed]",
      "text/plain": [
       "<Figure size 432x288 with 1 Axes>"
      ]
     },
     "metadata": {
      "needs_background": "light"
     },
     "output_type": "display_data"
    }
   ],
   "source": [
    "plt.plot(r.history['loss'], label='loss')\n",
    "plt.plot(r.history['val_loss'], label='val_loss')\n",
    "plt.legend()"
   ]
  },
  {
   "cell_type": "markdown",
   "metadata": {},
   "source": [
    "# Prediction"
   ]
  },
  {
   "cell_type": "code",
   "execution_count": 142,
   "metadata": {},
   "outputs": [],
   "source": [
    "classes = {\n",
    "    0: \"closed_road\",\n",
    "    1: \"left\",\n",
    "    2: \"light_green\",\n",
    "    3: \"light_red\",\n",
    "    4: \"light_yellow\",\n",
    "    5: \"not_left\",\n",
    "    6: \"not_right\",\n",
    "    7: \"no_entry\",\n",
    "    8: \"parking_available\",\n",
    "    9: \"parking_not_available\",\n",
    "    10: \"right\",\n",
    "    11: \"station_area\",\n",
    "    12: \"stop\",\n",
    "    13: \"straight_and_left\",\n",
    "    14: \"straight_and_right\"\n",
    "}"
   ]
  },
  {
   "cell_type": "code",
   "execution_count": 143,
   "metadata": {},
   "outputs": [],
   "source": [
    "def predict(img):\n",
    "    img_resized = cv2.resize(img, (32, 32))\n",
    "    img_resized = np.expand_dims(img_resized, axis=0)\n",
    "    p = model.predict(img_resized)\n",
    "    print(p)\n",
    "    pmax = np.argmax(p)\n",
    "    return classes[pmax]"
   ]
  },
  {
   "cell_type": "code",
   "execution_count": 156,
   "metadata": {},
   "outputs": [
    {
     "name": "stdout",
     "output_type": "stream",
     "text": [
      "[[3.2212551e-19 6.3765703e-23 4.1011498e-13 4.9504836e-19 1.3667329e-16\n",
      "  8.5533139e-18 1.6486656e-14 4.6757575e-18 2.5053654e-14 4.8034099e-27\n",
      "  5.9981389e-25 1.6165940e-27 2.6522203e-26 7.5673136e-15 1.0000000e+00]]\n"
     ]
    },
    {
     "data": {
      "text/plain": [
       "'straight_and_right'"
      ]
     },
     "execution_count": 156,
     "metadata": {},
     "output_type": "execute_result"
    }
   ],
   "source": [
    "testdir = 'random model testing/'\n",
    "imagename = 'ileri_sag2.png'\n",
    "img = cv2.imread(os.path.join(testdir+imagename), 1)\n",
    "\n",
    "predict(img)"
   ]
  },
  {
   "cell_type": "code",
   "execution_count": 145,
   "metadata": {},
   "outputs": [
    {
     "data": {
      "text/plain": [
       "(32, 32, 3)"
      ]
     },
     "execution_count": 145,
     "metadata": {},
     "output_type": "execute_result"
    }
   ],
   "source": [
    "X_train[0].shape"
   ]
  },
  {
   "cell_type": "code",
   "execution_count": null,
   "metadata": {},
   "outputs": [],
   "source": []
  }
 ],
 "metadata": {
  "kernelspec": {
   "display_name": "Python 3",
   "language": "python",
   "name": "python3"
  },
  "language_info": {
   "codemirror_mode": {
    "name": "ipython",
    "version": 3
   },
   "file_extension": ".py",
   "mimetype": "text/x-python",
   "name": "python",
   "nbconvert_exporter": "python",
   "pygments_lexer": "ipython3",
   "version": "3.7.9"
  }
 },
 "nbformat": 4,
 "nbformat_minor": 4
}
